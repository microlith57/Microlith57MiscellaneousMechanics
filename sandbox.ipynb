{
 "cells": [
  {
   "cell_type": "code",
   "execution_count": null,
   "metadata": {},
   "outputs": [],
   "source": [
    "import numpy as np\n",
    "import matplotlib.pyplot as plt\n",
    "\n",
    "from math import sqrt"
   ]
  },
  {
   "cell_type": "code",
   "execution_count": null,
   "metadata": {},
   "outputs": [],
   "source": [
    "xs = np.linspace(-2, 2, 48)\n",
    "ys = np.linspace(-2, 2, 48)\n",
    "ps = np.meshgrid(xs, ys)[0]\n",
    "\n",
    "us = np.zeros_like(ps)\n",
    "vs = np.zeros_like(ps)\n",
    "fs = np.zeros_like(ps)"
   ]
  },
  {
   "cell_type": "code",
   "execution_count": null,
   "metadata": {},
   "outputs": [],
   "source": [
    "def pole(px, py, f):\n",
    "    for i, x in enumerate(xs):\n",
    "        for j, y in enumerate(ys):\n",
    "            distsq = (x - px)**2 + (y - py)**2\n",
    "            dist = sqrt(distsq)\n",
    "\n",
    "            if (dist >= 0.1):\n",
    "                us[j, i] += f * (px - x) / dist / distsq\n",
    "                vs[j, i] += f *(py - y) / dist / distsq"
   ]
  },
  {
   "cell_type": "code",
   "execution_count": null,
   "metadata": {},
   "outputs": [],
   "source": [
    "n = 5\n",
    "[pole(-0.4, py, -1/n) for _, py in enumerate(np.linspace(-0.4, 0.4, n))]\n",
    "[pole( 0.4, py,  1/n) for _, py in enumerate(np.linspace(-0.4, 0.4, n))]"
   ]
  },
  {
   "cell_type": "code",
   "execution_count": null,
   "metadata": {},
   "outputs": [],
   "source": [
    "for i, x in enumerate(xs):\n",
    "    for j, y in enumerate(ys):\n",
    "        magnitude = sqrt(us[j, i]**2 + vs[j, i]**2)\n",
    "\n",
    "        if (x < -0.5 or x > 0.5 or y < -0.5 or y > 0.5):\n",
    "            fs[j, i] = magnitude\n",
    "        else:\n",
    "            fs[j, i] = np.nan\n",
    "\n",
    "        if (magnitude <= 0.01):\n",
    "            us[j, i] = vs[j, i] = 0\n",
    "        else:\n",
    "            us[j, i] /= magnitude\n",
    "            vs[j, i] /= magnitude"
   ]
  },
  {
   "cell_type": "code",
   "execution_count": null,
   "metadata": {},
   "outputs": [],
   "source": [
    "plt.quiver(xs, ys, us, vs, fs)"
   ]
  },
  {
   "cell_type": "code",
   "execution_count": null,
   "metadata": {},
   "outputs": [],
   "source": []
  }
 ],
 "metadata": {
  "kernelspec": {
   "display_name": "sage",
   "language": "python",
   "name": "sage"
  },
  "language_info": {
   "codemirror_mode": {
    "name": "ipython",
    "version": 3
   },
   "file_extension": ".py",
   "mimetype": "text/x-python",
   "name": "python",
   "nbconvert_exporter": "python",
   "pygments_lexer": "ipython3",
   "version": "3.11.4"
  }
 },
 "nbformat": 4,
 "nbformat_minor": 2
}
